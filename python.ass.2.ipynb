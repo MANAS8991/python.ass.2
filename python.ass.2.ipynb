{
 "cells": [
  {
   "cell_type": "markdown",
   "id": "f48a1920",
   "metadata": {},
   "source": [
    "# python2"
   ]
  },
  {
   "cell_type": "code",
   "execution_count": null,
   "id": "a800860e",
   "metadata": {},
   "outputs": [],
   "source": [
    "##1:What are the two values of the Boolean data type? How do you write them?"
   ]
  },
  {
   "cell_type": "code",
   "execution_count": null,
   "id": "a1fefafd",
   "metadata": {},
   "outputs": [],
   "source": [
    "n Python, the two values of the Boolean data type are True and False. These values are written with an uppercase first letter, and they are not surrounded by quotes or any other characters.\n",
    "\n",
    "Here's an example of how you would use Boolean values in Python:\n",
    "      is_true=True\n",
    "      is_false=False\n",
    "In this example, is_true is assigned the value True, and is_false is assigned the value False. These variables can be used to store and manipulate Boolean values in your Python program."
   ]
  },
  {
   "cell_type": "code",
   "execution_count": null,
   "id": "8a51a510",
   "metadata": {},
   "outputs": [],
   "source": [
    "##2:What are the three different types of Boolean operators?"
   ]
  },
  {
   "cell_type": "code",
   "execution_count": null,
   "id": "5dfbd5b0",
   "metadata": {},
   "outputs": [],
   "source": [
    "The three different types of Boolean operators are:\n",
    "\n",
    "AND operator (and): The AND operator returns True if both operands are True, and False otherwise. It represents logical conjunction.\n",
    "\n",
    "OR operator (or): The OR operator returns True if at least one of the operands is True, and False otherwise. It represents logical disjunction.\n",
    "\n",
    "NOT operator (not): The NOT operator is a unary operator that negates the value of the operand. It returns True if the operand is False, and False if the operand is True. It represents logical negation.\n",
    "\n",
    "These Boolean operators are used to perform logical operations and evaluate conditions in programming languages like Python. They allow you to combine Boolean values or expressions to make more complex logical statements.\n"
   ]
  },
  {
   "cell_type": "code",
   "execution_count": null,
   "id": "688fc872",
   "metadata": {},
   "outputs": [],
   "source": [
    "##3:Make a list of each Boolean operator's truth tables (i.e. every possible combination of Boolean values for the operator and what it evaluate )."
   ]
  },
  {
   "cell_type": "code",
   "execution_count": null,
   "id": "2f4958c9",
   "metadata": {},
   "outputs": [],
   "source": [
    "Certainly! Here are the truth tables for each Boolean operator:\n",
    "\n",
    "1:AND operator (and):\n",
    "Operand 1\tOperand 2\tResult\n",
    "False\t    False\t     False\n",
    "False\t    True\t     False\n",
    "True\t    False\t     False\n",
    "True\t    True\t     True\n",
    "2:OR operator (or):\n",
    "Operand 1\tOperand 2\tResult\n",
    "False\t     False\t     False\n",
    "False\t     True\t     True\n",
    "True\t     False\t     True\n",
    "True\t     True\t     True\n",
    "3:NOT operator (not):\n",
    "Operand\tResult\n",
    "False\tTrue\n",
    "True\tFalse\n",
    "These truth tables show the output or result obtained when each Boolean operator is applied to different combinations of Boolean values."
   ]
  },
  {
   "cell_type": "code",
   "execution_count": null,
   "id": "f2ddbb19",
   "metadata": {},
   "outputs": [],
   "source": [
    "##4:What are the values of the following expressions?\n",
    "(5 > 4) and (3 == 5)\n",
    "not (5 > 4)\n",
    "(5 > 4) or (3 == 5)\n",
    "not ((5 > 4) or (3 == 5))\n",
    "(True and True) and (True == False)\n",
    "(not False) or (not True)"
   ]
  },
  {
   "cell_type": "code",
   "execution_count": null,
   "id": "953fe01d",
   "metadata": {},
   "outputs": [],
   "source": [
    "(5 > 4) and (3 == 5) evaluates to False.\n",
    "not (5 > 4) evaluates to False.\n",
    "(5 > 4) or (3 == 5) evaluates to True.\n",
    "not ((5 > 4) or (3 == 5)) evaluates to False.\n",
    "(True and True) and (True == False) evaluates to False.\n",
    "(not False) or (not True) evaluates to True."
   ]
  },
  {
   "cell_type": "code",
   "execution_count": null,
   "id": "bd41edd6",
   "metadata": {},
   "outputs": [],
   "source": [
    "##5:What are the six comparison operators?"
   ]
  },
  {
   "cell_type": "code",
   "execution_count": null,
   "id": "2e2aba12",
   "metadata": {},
   "outputs": [],
   "source": [
    "1:Equality operator (==): It checks if two values are equal and returns true if they are, or false otherwise.\n",
    "\n",
    "2:Inequality operator (!=): It checks if two values are not equal and returns true if they are not, or false otherwise.\n",
    "\n",
    "3:Greater than operator (>): It checks if the value on the left side is greater than the value on the right side and returns true if it is, or false otherwise.\n",
    "\n",
    "4:Less than operator (<): It checks if the value on the left side is less than the value on the right side and returns true if it is, or false otherwise.\n",
    "\n",
    "5:Greater than or equal to operator (>=): It checks if the value on the left side is greater than or equal to the value on the right side and returns true if it is, or false otherwise.\n",
    "\n",
    "6:Less than or equal to operator (<=): It checks if the value on the left side is less than or equal to the value on the right side and returns true if it is, or false otherwise."
   ]
  },
  {
   "cell_type": "code",
   "execution_count": null,
   "id": "baf54e89",
   "metadata": {},
   "outputs": [],
   "source": [
    "##6:How do you tell the difference between the equal to and assignment operators?Describe a condition and when you would use one."
   ]
  },
  {
   "cell_type": "code",
   "execution_count": null,
   "id": "c756a52f",
   "metadata": {},
   "outputs": [],
   "source": [
    "In many programming languages, including Python, the equal to operator (==) is used to compare whether two values are equal, while the assignment operator (=) is used to assign a value to a variable.\n",
    "\n",
    "To differentiate between the two operators, you can consider their usage and context within an expression.\n",
    "\n",
    "Equal to Operator (==):\n",
    "\n",
    "Usage: The equal to operator is used to compare two values for equality.\n",
    "Example: x == y compares if the value of x is equal to the value of y.\n",
    "Result: It returns True if the values are equal, and False if they are not.\n",
    "Assignment Operator (=):\n",
    "\n",
    "Usage: The assignment operator is used to assign a value to a variable.\n",
    "Example: x = 5 assigns the value 5 to the variable x.\n",
    "Result: It assigns the value on the right-hand side to the variable on the left-hand side.\n",
    "Here's an example to illustrate the difference:\n",
    "x = 10  # Assignment: Assigns the value 10 to the variable x\n",
    "y = 5   # Assignment: Assigns the value 5 to the variable y\n",
    "\n",
    "if x == y:  # Equality Comparison: Checks if x and y have the same value\n",
    "    print(\"x and y are equal.\")\n",
    "else:\n",
    "    print(\"x and y are not equal.\")\n",
    "    \n",
    "    \n",
    "    \n",
    "    \n",
    "    \n",
    "    In this example, the assignment operator (=) is used to assign values to the variables x and y. The equal to operator (==) is used within the conditional statement to compare if the values of x and y are equal. Depending on the result of the comparison, a different message is printed.\n",
    "\n",
    "You would use the equal to operator when you need to compare values for equality, such as in conditional statements, to make decisions based on the comparison results. On the other hand, you would use the assignment operator when you need to assign a value to a variable, updating or initializing its value.\n"
   ]
  },
  {
   "cell_type": "code",
   "execution_count": null,
   "id": "62db2799",
   "metadata": {},
   "outputs": [],
   "source": [
    "##7:Identify the three blocks in this code:\n",
    "spam=0\n",
    "if spam==10\n",
    "print('eggs')\n",
    "if spam>5:\n",
    "print('bacon')\n",
    "else:\n",
    "print('ham')\n",
    "print('spam')\n",
    "print('spam')"
   ]
  },
  {
   "cell_type": "code",
   "execution_count": null,
   "id": "1acc7cfa",
   "metadata": {},
   "outputs": [],
   "source": [
    "Block 1:\n",
    "    \n",
    "spam = 0\n",
    "if spam == 10:\n",
    "    print('eggs')\n",
    "\n",
    " Explanation: This block assigns the value 0 to the variable spam. It then checks if spam is equal to 10. However, since the condition is not met, the print('eggs') statement inside this block will not be executed.\n",
    "    \n",
    "Block 2:\n",
    "if spam > 5:\n",
    "    print('bacon')\n",
    "else:\n",
    "    print('ham')\n",
    "\n",
    "Explanation: This block contains an if statement. It checks if spam is greater than 5. If the condition is true, it will execute the print('bacon') statement. Otherwise, if the condition is false, it will execute the print('ham') statement.\n",
    "Block 3:\n",
    "print('spam')\n",
    "print('spam')\n",
    "\n",
    "Explanation: This block consists of two print statements. They are not inside any conditional statement and will be executed unconditionally. The output will be the strings 'spam' printed twice.\n",
    " \n",
    "Block 1: Assignment and conditional check for spam == 10.\n",
    "Block 2: Conditional check for spam > 5 and the subsequent if-else statements.\n",
    "Block 3: Two print statements unrelated to any conditional checks."
   ]
  },
  {
   "cell_type": "code",
   "execution_count": null,
   "id": "26444ff9",
   "metadata": {},
   "outputs": [],
   "source": [
    "##8:Write code that prints Hello if 1 is stored in spam, prints Howdy if 2 is stored in spam, and prints Greetings! if anything else is stored in spam."
   ]
  },
  {
   "cell_type": "code",
   "execution_count": 1,
   "id": "9669994e",
   "metadata": {},
   "outputs": [
    {
     "name": "stdout",
     "output_type": "stream",
     "text": [
      "Hello\n"
     ]
    }
   ],
   "source": [
    "spam = 1\n",
    "\n",
    "if spam == 1:\n",
    "    print(\"Hello\")\n",
    "elif spam == 2:\n",
    "    print(\"Howdy\")\n",
    "else:\n",
    "    print(\"Greetings!\")\n",
    "#In this code, if spam is equal to 1, it will print \"Hello\". If spam is equal to 2, it will print \"Howdy\". For any other value of spam, it will print \"Greetings!\""
   ]
  },
  {
   "cell_type": "code",
   "execution_count": null,
   "id": "7280b8cd",
   "metadata": {},
   "outputs": [],
   "source": [
    "##9:If your programme is stuck in an endless loop, what keys you’ll press?"
   ]
  },
  {
   "cell_type": "code",
   "execution_count": null,
   "id": "6bc1565a",
   "metadata": {},
   "outputs": [],
   "source": [
    "Windows/Linux: 'Ctrl + C'\n",
    "Mac: 'Command + .''\n",
    "Pressing these key combinations will send an interrupt signal to the running program, causing it to terminate and exit the loop. It's a common method to forcefully stop the execution of a program that is stuck or running indefinitely."
   ]
  },
  {
   "cell_type": "code",
   "execution_count": null,
   "id": "29a444d0",
   "metadata": {},
   "outputs": [],
   "source": [
    "##10:How can you tell the difference between break and continue?"
   ]
  },
  {
   "cell_type": "code",
   "execution_count": null,
   "id": "a869c6cb",
   "metadata": {},
   "outputs": [],
   "source": [
    "The break and continue statements are control flow statements used in loops (such as for or while) to alter the flow of execution. Here's how you can tell the difference between break and continue:\n",
    "\n",
    "'break' statement:\n",
    "\n",
    "When encountered inside a loop, the break statement terminates the loop and moves the program's execution to the next statement after the loop.\n",
    "It completely exits the loop, regardless of any remaining iterations.\n",
    "After encountering a break statement, the program will continue executing from the first statement after the loop.\n",
    "Use break when you want to prematurely exit the loop and skip the remaining iterations.\n",
    "\n",
    "'continue' statement:\n",
    "\n",
    "When encountered inside a loop, the continue statement skips the rest of the code within the loop for the current iteration and moves to the next iteration.\n",
    "It does not exit the loop entirely; instead, it jumps back to the loop's condition check or iteration increment/decrement.\n",
    "After encountering a continue statement, the program will continue with the next iteration of the loop, skipping any remaining code for the current iteration.\n",
    "Use continue when you want to skip a particular iteration of the loop and proceed to the next iteration."
   ]
  },
  {
   "cell_type": "code",
   "execution_count": null,
   "id": "fa101645",
   "metadata": {},
   "outputs": [],
   "source": [
    "##11:In a for loop, what is the difference between range(10), range(0, 10), and range(0, 10, 1)?"
   ]
  },
  {
   "cell_type": "code",
   "execution_count": null,
   "id": "f1c1e991",
   "metadata": {},
   "outputs": [],
   "source": [
    "'range(10)': This expression represents a range that starts from 0 (by default) and goes up to, but does not include, the specified end value, which is 10 in this case. It iterates over the numbers 0 to 9. The step size is implicitly 1.\n",
    "\n",
    "'range(0, 10)': This expression explicitly specifies both the start and end values of the range. It starts from 0 and goes up to, but does not include, the end value, which is 10. It also iterates over the numbers 0 to 9. The step size is still implicitly 1.\n",
    "\n",
    "'range(0, 10, 1)': This expression specifies both the start and end values of the range, similar to the previous expression. Additionally, it explicitly specifies the step size, which is 1 in this case. It starts from 0, goes up to, but does not include, the end value (10), and increments by 1 with each iteration. It iterates over the numbers 0 to 9.\n",
    "\n",
    "In practice, all three expressions will produce the same sequence of numbers (0, 1, 2, 3, 4, 5, 6, 7, 8, 9) when used in a for loop. They differ slightly in how they are written, but their effect is the same in terms of the range of values covered by the loop."
   ]
  },
  {
   "cell_type": "code",
   "execution_count": null,
   "id": "6da2c890",
   "metadata": {},
   "outputs": [],
   "source": [
    "##12:Write a short program that prints the numbers 1 to 10 using a for loop. Then write an equivalent program that prints the numbers 1 to 10 using a while loop."
   ]
  },
  {
   "cell_type": "code",
   "execution_count": 2,
   "id": "b21f3599",
   "metadata": {},
   "outputs": [
    {
     "name": "stdout",
     "output_type": "stream",
     "text": [
      "1\n",
      "2\n",
      "3\n",
      "4\n",
      "5\n",
      "6\n",
      "7\n",
      "8\n",
      "9\n",
      "10\n"
     ]
    }
   ],
   "source": [
    "for num in range(1, 11):\n",
    "    print(num)\n"
   ]
  },
  {
   "cell_type": "code",
   "execution_count": 3,
   "id": "fe6b4abe",
   "metadata": {},
   "outputs": [
    {
     "name": "stdout",
     "output_type": "stream",
     "text": [
      "1\n",
      "2\n",
      "3\n",
      "4\n",
      "5\n",
      "6\n",
      "7\n",
      "8\n",
      "9\n",
      "10\n"
     ]
    }
   ],
   "source": [
    "num = 1\n",
    "while num <= 10:\n",
    "    print(num)\n",
    "    num += 1\n"
   ]
  },
  {
   "cell_type": "code",
   "execution_count": null,
   "id": "d99f04e0",
   "metadata": {},
   "outputs": [],
   "source": [
    "##13:If you had a function named bacon() inside a module named spam, how would you call it after importing spam?"
   ]
  },
  {
   "cell_type": "code",
   "execution_count": null,
   "id": "2829ed7d",
   "metadata": {},
   "outputs": [],
   "source": [
    "import spam\n",
    "\n",
    "spam.bacon()\n",
    "\n",
    "\n",
    "In this case, you import the spam module using the import statement, which makes all the functions, classes, and variables defined in the spam module accessible in your current code. To call the bacon() function, you use the dot notation (spam.bacon()), where spam is the module name and bacon() is the function name."
   ]
  }
 ],
 "metadata": {
  "kernelspec": {
   "display_name": "Python 3 (ipykernel)",
   "language": "python",
   "name": "python3"
  },
  "language_info": {
   "codemirror_mode": {
    "name": "ipython",
    "version": 3
   },
   "file_extension": ".py",
   "mimetype": "text/x-python",
   "name": "python",
   "nbconvert_exporter": "python",
   "pygments_lexer": "ipython3",
   "version": "3.9.12"
  }
 },
 "nbformat": 4,
 "nbformat_minor": 5
}
